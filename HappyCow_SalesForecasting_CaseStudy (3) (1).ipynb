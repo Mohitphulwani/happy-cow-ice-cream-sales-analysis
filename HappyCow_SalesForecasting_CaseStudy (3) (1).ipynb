{
 "cells": [
  {
   "cell_type": "markdown",
   "id": "b0ca2c28",
   "metadata": {},
   "source": [
    "# Happy Cow Ice Cream: Data-Driven Sales Forecasting Case Study"
   ]
  },
  {
   "cell_type": "markdown",
   "id": "5486499f",
   "metadata": {},
   "source": [
    "\n",
    "## Business Context: Happy Cow Ice Cream Case Study\n",
    "\n",
    "Happy Cow is a small-batch, premium ice cream store based on a university campus in Hong Kong. Founded by Mary Schroeder, the business aimed to offer healthier, unique ice cream flavors that appealed to a diverse crowd: students, staff, and tourists.\n",
    "\n",
    "### Operational Strategy\n",
    "- **Location**: HKU campus – benefiting from a regular student and staff base, but dependent on campus foot traffic.\n",
    "- **Product**: Unconventional, data-inspired flavors like Ginger, Chai Tea, and Mango Lime Coconut.\n",
    "- **Data Collection**: PoS system used to track sales by hour, date, flavor, and consumer group.\n",
    "\n",
    "### Strategic Use of Data\n",
    "- Mary and Prem (store manager) believed in leveraging data for:\n",
    "  - Stocking decisions\n",
    "  - Flavor development\n",
    "  - Staffing optimization\n",
    "  - Promotions\n",
    "\n",
    "### Class Discussion Takeaways\n",
    "- **Hourly data reveals sales dynamics**: Useful for designing time-specific promotions (e.g., 3–5 PM happy hours).\n",
    "- **Seasonality matters**: Certain flavors trend higher in summer (e.g., Fruity), others in cooler months (e.g., Warming).\n",
    "- **Segmentation drives insights**: Student vs. Staff vs. Tourist behavior differs—affecting inventory and promotions.\n",
    "\n",
    "This notebook uses descriptive time series analysis and segmentation to provide business insights and promotional suggestions grounded in data. While limited in historical range (April–August), the dataset is rich in granularity, supporting tactical decision-making for a growing retail food business.\n"
   ]
  },
  {
   "cell_type": "markdown",
   "id": "43d6ebe7",
   "metadata": {},
   "source": [
    "\n",
    "## 🛠️ Data Preprocessing & Cleaning\n",
    "\n",
    "- Cleaned and parsed dates from multiple formats (`'Sat 1st Apr 2017'` ➝ `datetime`).\n",
    "- Merged datasets from different consumer groups into a unified structure.\n",
    "- Used `.melt()` and `.pivot()` for reshaping.\n",
    "- Grouped and aggregated sales by date, flavor, and consumer segment.\n",
    "- Validated data completeness and highlighted zero-sales anomalies using IQR-based outlier detection.\n"
   ]
  },
  {
   "cell_type": "markdown",
   "id": "739b2ba7",
   "metadata": {},
   "source": [
    "## Time Series Example from Daily Life\n",
    "**Example:** Daily steps walked over a month.\n",
    "\n",
    "This time series reflects personal fitness behavior, useful for setting goals, tracking consistency, or detecting health issues."
   ]
  },
  {
   "cell_type": "code",
   "execution_count": null,
   "id": "6fbe5e86",
   "metadata": {},
   "outputs": [],
   "source": [
    "\n",
    "import pandas as pd\n",
    "import numpy as np\n",
    "import matplotlib.pyplot as plt\n",
    "\n",
    "# Create a time series of daily steps walked by a person over a month\n",
    "dates = pd.date_range(start=\"2024-04-01\", end=\"2024-04-30\")\n",
    "steps = np.random.randint(4000, 12000, size=len(dates))\n",
    "daily_steps = pd.DataFrame({\"Date\": dates, \"Steps\": steps})\n",
    "\n",
    "plt.figure(figsize=(10, 5))\n",
    "plt.plot(daily_steps[\"Date\"], daily_steps[\"Steps\"], marker=\"o\")\n",
    "plt.title(\"Daily Steps Over a Month\")\n",
    "plt.xlabel(\"Date\")\n",
    "plt.ylabel(\"Steps\")\n",
    "plt.grid(True)\n",
    "plt.xticks(rotation=45)\n",
    "plt.tight_layout()\n",
    "plt.show()\n"
   ]
  },
  {
   "cell_type": "markdown",
   "id": "d56d0242",
   "metadata": {},
   "source": [
    "## Q1. Sales Performance by Consumer Group\n",
    "Visual comparison of daily sales by students, staff, and tourists. Insights help optimize pricing, staffing, and inventory."
   ]
  },
  {
   "cell_type": "code",
   "execution_count": null,
   "id": "7fe6f8c0",
   "metadata": {},
   "outputs": [],
   "source": [
    "\n",
    "# Import and parse Excel\n",
    "import pandas as pd\n",
    "import re\n",
    "\n",
    "daily_sales_path = \"/mnt/data/HK1227-XLS-ENG.xlsx\"\n",
    "student = pd.read_excel(daily_sales_path, sheet_name=\"student daily\")\n",
    "staff = pd.read_excel(daily_sales_path, sheet_name=\"staff daily\")\n",
    "tourist = pd.read_excel(daily_sales_path, sheet_name=\"tourism daily\")\n",
    "\n",
    "# Clean date format\n",
    "def clean_date_suffix(date_str):\n",
    "    return re.sub(r\"(\\d+)(st|nd|rd|th)\", r\"\\1\", date_str)\n",
    "\n",
    "for df in [student, tourist]:\n",
    "    df[\"Date\"] = pd.to_datetime(df[\"Date\"].apply(clean_date_suffix), format=\"%a %d %b %Y\")\n",
    "staff.rename(columns={\"Product\": \"Date\"}, inplace=True)\n",
    "staff[\"Date\"] = pd.to_datetime(staff[\"Date\"].apply(clean_date_suffix), format=\"%a %d %b %Y\")\n",
    "\n",
    "# Melt into long format\n",
    "student_melt = student.melt(id_vars=\"Date\", var_name=\"Flavor\", value_name=\"Sales\")\n",
    "student_melt[\"Group\"] = \"Student\"\n",
    "staff_melt = staff.melt(id_vars=\"Date\", var_name=\"Flavor\", value_name=\"Sales\")\n",
    "staff_melt[\"Group\"] = \"Staff\"\n",
    "tourist_melt = tourist.melt(id_vars=\"Date\", var_name=\"Flavor\", value_name=\"Sales\")\n",
    "tourist_melt[\"Group\"] = \"Tourist\"\n",
    "\n",
    "# Combine and aggregate\n",
    "df_all = pd.concat([student_melt, staff_melt, tourist_melt])\n",
    "sales_by_group = df_all.groupby([\"Date\", \"Group\"])[\"Sales\"].sum().reset_index()\n",
    "pivot = sales_by_group.pivot(index=\"Date\", columns=\"Group\", values=\"Sales\")\n",
    "\n",
    "# Plot\n",
    "pivot.plot(figsize=(12,6), marker='o')\n",
    "plt.title(\"Daily Ice Cream Sales by Consumer Group\")\n",
    "plt.xlabel(\"Date\")\n",
    "plt.ylabel(\"Total Sales\")\n",
    "plt.grid(True)\n",
    "plt.tight_layout()\n",
    "plt.show()\n"
   ]
  },
  {
   "cell_type": "markdown",
   "id": "0ea04f67",
   "metadata": {},
   "source": [
    "## Q2. Flavor Groupings and Seasonal Insights\n",
    "Group flavors (e.g., Fruity, Classic, Warming) to visualize seasonal patterns. This helps optimize inventory and marketing."
   ]
  },
  {
   "cell_type": "code",
   "execution_count": null,
   "id": "04d92408",
   "metadata": {},
   "outputs": [],
   "source": [
    "\n",
    "flavor_groups = {\n",
    "    \"Fruity\": [\"Mango\", \"Strawberry\", \"Banana\", \"Lime Coconut\", \"Apricot\"],\n",
    "    \"Nutty\": [\"Hazelnut\", \"Pistachio\"],\n",
    "    \"Warming\": [\"Ginger\", \"Chai Tea\"],\n",
    "    \"Classic\": [\"Chocolate\", \"Vanilla\", \"Mint Choco\", \"Pure Coconut\", \"S. Caramel\"]\n",
    "}\n",
    "\n",
    "def map_group(flavor):\n",
    "    for group, items in flavor_groups.items():\n",
    "        if any(f.lower() in flavor.lower() for f in items):\n",
    "            return group\n",
    "    return \"Other\"\n",
    "\n",
    "df_all[\"FlavorGroup\"] = df_all[\"Flavor\"].apply(map_group)\n",
    "flavor_sales = df_all.groupby([\"Date\", \"FlavorGroup\"])[\"Sales\"].sum().reset_index()\n",
    "flavor_pivot = flavor_sales.pivot(index=\"Date\", columns=\"FlavorGroup\", values=\"Sales\")\n",
    "flavor_pivot.plot(figsize=(12,6), marker='o')\n",
    "plt.title(\"Sales Trends by Flavor Group\")\n",
    "plt.xlabel(\"Date\")\n",
    "plt.ylabel(\"Sales\")\n",
    "plt.grid(True)\n",
    "plt.tight_layout()\n",
    "plt.show()\n"
   ]
  },
  {
   "cell_type": "markdown",
   "id": "7c7abaf6",
   "metadata": {},
   "source": [
    "## Q3. Outlier Detection\n",
    "Using the IQR method to identify unusually high/low sales days."
   ]
  },
  {
   "cell_type": "code",
   "execution_count": null,
   "id": "7de81630",
   "metadata": {},
   "outputs": [],
   "source": [
    "\n",
    "total_daily = df_all.groupby(\"Date\")[\"Sales\"].sum().reset_index()\n",
    "Q1 = total_daily[\"Sales\"].quantile(0.25)\n",
    "Q3 = total_daily[\"Sales\"].quantile(0.75)\n",
    "IQR = Q3 - Q1\n",
    "lower = Q1 - 1.5 * IQR\n",
    "upper = Q3 + 1.5 * IQR\n",
    "total_daily[\"Outlier\"] = (total_daily[\"Sales\"] < lower) | (total_daily[\"Sales\"] > upper)\n",
    "\n",
    "# Plot\n",
    "plt.figure(figsize=(12, 6))\n",
    "plt.plot(total_daily[\"Date\"], total_daily[\"Sales\"], label=\"Sales\")\n",
    "plt.scatter(total_daily[total_daily[\"Outlier\"]][\"Date\"], \n",
    "            total_daily[total_daily[\"Outlier\"]][\"Sales\"], color='red', label=\"Outliers\")\n",
    "plt.title(\"Daily Sales with Outliers Highlighted\")\n",
    "plt.xlabel(\"Date\")\n",
    "plt.ylabel(\"Sales\")\n",
    "plt.legend()\n",
    "plt.grid(True)\n",
    "plt.tight_layout()\n",
    "plt.show()\n",
    "\n",
    "# Display outliers\n",
    "total_daily[total_daily[\"Outlier\"]]\n"
   ]
  },
  {
   "cell_type": "markdown",
   "id": "c9083125",
   "metadata": {},
   "source": [
    "## Q4. Purpose of Time Series Analysis\n",
    "**Descriptive** due to short data period (5 months).\n",
    "\n",
    "### Limitations:\n",
    "- No annual cycle captured, limiting seasonal forecasting.\n",
    "- Missing academic break trends and weather impacts.\n",
    "- Not enough data for stable ARIMA or LSTM models.\n",
    "**Use Case:** Explore trends, behavior segments, and prepare for predictive modeling in future with a longer dataset."
   ]
  },
  {
   "cell_type": "markdown",
   "id": "2400a9f0",
   "metadata": {},
   "source": [
    "## Q5. Susan’s Promotional Recommendations\n",
    "- Promote fruity flavors in summer, warming ones in cooler months.\n",
    "- Offer student-exclusive deals during weekday slumps.\n",
    "- Loyalty programs (e.g., free scoop after 5 visits).\n",
    "- Enable flavor voting to drive seasonal rotation.\n",
    "- Collaborate with local Cantonese health/wellness influencers.\n",
    "- Create tasting booths to convert skeptics.\n",
    "- Track performance of each promotion using PoS data."
   ]
  },
  {
   "cell_type": "markdown",
   "id": "bdd039b6",
   "metadata": {},
   "source": [
    "## Q6. Forecasting Techniques and Operational Impact\n",
    "**Techniques:**\n",
    "- Time series analysis by day, flavor, and group.\n",
    "- Flavor category seasonality tracking.\n",
    "- Outlier detection for special event planning.\n",
    "- Segment-level sales analysis.\n",
    "\n",
    "**Impacts:**\n",
    "- Improved stock control (prevented shortages).\n",
    "- Data-driven promotions and campaigns.\n",
    "- Informed product development and expansion.\n",
    "- Data-informed decision-making culture."
   ]
  },
  {
   "cell_type": "markdown",
   "id": "207697bf",
   "metadata": {},
   "source": [
    "## Bonus: Hourly Sales Analysis\n",
    "To complement daily sales analysis, hourly data helps reveal peak hours, slumps, and time-specific promotion opportunities."
   ]
  },
  {
   "cell_type": "code",
   "execution_count": null,
   "id": "d77acdad",
   "metadata": {},
   "outputs": [],
   "source": [
    "\n",
    "import re\n",
    "\n",
    "# Load hourly sales data\n",
    "hourly_sales = pd.read_excel(\"/mnt/data/HK1228-XLS-ENG.xlsx\", sheet_name=\"Raw data\")\n",
    "\n",
    "# Clean and parse timestamps\n",
    "def robust_clean_hourly_time(x):\n",
    "    if isinstance(x, str):\n",
    "        x = x.lower()\n",
    "        x = re.sub(r\"(\\d+)(st|nd|rd|th)\", r\"\\1\", x)\n",
    "        try:\n",
    "            return pd.to_datetime(x, format=\"%I%p %a %d %b %Y\")\n",
    "        except:\n",
    "            return pd.NaT\n",
    "    return pd.NaT\n",
    "\n",
    "hourly_sales[\"DateTime\"] = hourly_sales[\"Time\"].apply(robust_clean_hourly_time)\n",
    "hourly_sales[\"Hour\"] = hourly_sales[\"DateTime\"].dt.hour\n",
    "hourly_sales[\"Weekday\"] = hourly_sales[\"DateTime\"].dt.day_name()\n",
    "\n",
    "# Plot average hourly sales\n",
    "import seaborn as sns\n",
    "import matplotlib.pyplot as plt\n",
    "\n",
    "avg_hourly = hourly_sales.groupby(\"Hour\")[\"Sales\"].mean().reset_index()\n",
    "\n",
    "plt.figure(figsize=(10, 5))\n",
    "sns.lineplot(data=avg_hourly, x=\"Hour\", y=\"Sales\", marker=\"o\")\n",
    "plt.title(\"Average Ice Cream Sales by Hour\")\n",
    "plt.xlabel(\"Hour of Day\")\n",
    "plt.ylabel(\"Average Sales\")\n",
    "plt.grid(True)\n",
    "plt.xticks(range(0, 24))\n",
    "plt.tight_layout()\n",
    "plt.show()\n"
   ]
  },
  {
   "cell_type": "markdown",
   "id": "82f25e1e",
   "metadata": {},
   "source": [
    "### Insight:\n",
    "- Sales are near-zero in early morning hours (12 AM – 9 AM).\n",
    "- Peaks likely occur during afternoon and early evening (12–6 PM).\n",
    "- Promotions or staff scheduling can be optimized around these trends."
   ]
  },
  {
   "cell_type": "markdown",
   "id": "e510e982",
   "metadata": {},
   "source": [
    "\n",
    "## 📌 Summary & Recommendations\n",
    "\n",
    "### Key Findings:\n",
    "- **Students** show more consistent weekday purchases.\n",
    "- **Tourists** drive weekend peaks and flavor variety demand.\n",
    "- **Fruity flavors** spike in summer, validating seasonal product rotation.\n",
    "- **Hourly trends** indicate strong afternoon performance (12–6 PM), supporting time-based offers.\n",
    "- **Outliers** in sales were mostly due to store closure days (0 sales) or event spikes.\n",
    "\n",
    "### Strategic Recommendations:\n",
    "1. **Time-Specific Promotions**\n",
    "   - Launch 3–5 PM “Happy Hours” targeting students.\n",
    "   - Run weekend combo deals for tourists.\n",
    "\n",
    "2. **Seasonal Flavor Planning**\n",
    "   - Stock up on Fruity flavors April–July.\n",
    "   - Introduce Warming flavors like Ginger and Chai Tea in colder months (planned expansion).\n",
    "\n",
    "3. **Operational Improvements**\n",
    "   - Use hourly data to schedule staff shifts more efficiently.\n",
    "   - Investigate 0-sales days to identify closure causes and improve uptime.\n",
    "\n",
    "4. **Future Data Collection**\n",
    "   - Expand data logging to include weather, events, and store hours.\n",
    "   - Collect more months of data to enable predictive modeling and seasonal forecasts.\n"
   ]
  }
 ],
 "metadata": {
  "kernelspec": {
   "display_name": "Python 3 (ipykernel)",
   "language": "python",
   "name": "python3"
  },
  "language_info": {
   "codemirror_mode": {
    "name": "ipython",
    "version": 3
   },
   "file_extension": ".py",
   "mimetype": "text/x-python",
   "name": "python",
   "nbconvert_exporter": "python",
   "pygments_lexer": "ipython3",
   "version": "3.12.4"
  }
 },
 "nbformat": 4,
 "nbformat_minor": 5
}
